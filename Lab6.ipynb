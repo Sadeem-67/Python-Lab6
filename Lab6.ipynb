{
 "cells": [
  {
   "cell_type": "markdown",
   "id": "96523f39-2a87-4bd1-bb53-b56a0888df14",
   "metadata": {},
   "source": [
    "# Dictionary"
   ]
  },
  {
   "cell_type": "markdown",
   "id": "cf3febe5-9176-4367-9470-59d6a275b384",
   "metadata": {},
   "source": [
    "## Build a phone book program that receives the phone number, and returns the name of the owner."
   ]
  },
  {
   "cell_type": "code",
   "execution_count": 1,
   "id": "1c5e721f-1a36-4eb5-b119-61106b487bad",
   "metadata": {},
   "outputs": [
    {
     "data": {
      "text/plain": [
       "{1: ['Amal', 1111111111],\n",
       " 2: ['Mohammed', 2222222222],\n",
       " 3: ['Khadijah', 3333333333],\n",
       " 4: ['Abdullah', 4444444444],\n",
       " 5: ['Rawan', 5555555555],\n",
       " 6: ['Faisal', 6666666666],\n",
       " 7: ['Layla', 7777777777]}"
      ]
     },
     "execution_count": 1,
     "metadata": {},
     "output_type": "execute_result"
    }
   ],
   "source": [
    "dic ={1 : [\"Amal\" , 1111111111 ],\n",
    "      2 : [\"Mohammed\" , 2222222222 ],\n",
    "      3 : [\"Khadijah\" , 3333333333 ],\n",
    "      4 : [\"Abdullah\" , 4444444444 ],\n",
    "      5 : [\"Rawan\" , 5555555555 ],\n",
    "      6 : [\"Faisal\" , 6666666666 ],\n",
    "      7 : [\"Layla\" , 7777777777 ] }\n",
    "dic  "
   ]
  },
  {
   "cell_type": "markdown",
   "id": "3183c3b1-d633-4311-a1fe-edffd1e69984",
   "metadata": {},
   "source": [
    "- If the number exists, print the owner. Otherwise, print \"Sorry, the number is not found\".\n",
    "- If the number is less or more than 10 numbers, print \"This is invalid number\".\n",
    "- If the number contains letters or symbols, print \"This is invalid number\"."
   ]
  },
  {
   "cell_type": "code",
   "execution_count": 2,
   "id": "bce529f8-e1b1-469e-b29b-116ebf83a92d",
   "metadata": {},
   "outputs": [
    {
     "name": "stdin",
     "output_type": "stream",
     "text": [
      "Enter the number: 1111111111\n"
     ]
    },
    {
     "name": "stdout",
     "output_type": "stream",
     "text": [
      "Amal\n"
     ]
    }
   ],
   "source": [
    "input_v = input( \"Enter the number:\" )\n",
    "if not input_v.isdigit():\n",
    "        print('This is invalid number')\n",
    "else:\n",
    "    input_v2 = int(input_v)\n",
    "    if len(str(input_v2)) !=  10:\n",
    "            print(\"This is invalid number\")\n",
    "    for i in dic:\n",
    "        if input_v2 ==dic[i][1]:\n",
    "            name = dic[i][0]\n",
    "            break\n",
    "        else:\n",
    "            name = \"Sorry, the number is not found\"\n",
    "    print(name)"
   ]
  },
  {
   "cell_type": "code",
   "execution_count": null,
   "id": "0efe9cbe-b0bd-4369-882e-f223ad646030",
   "metadata": {},
   "outputs": [],
   "source": []
  }
 ],
 "metadata": {
  "kernelspec": {
   "display_name": "Python 3 (ipykernel)",
   "language": "python",
   "name": "python3"
  },
  "language_info": {
   "codemirror_mode": {
    "name": "ipython",
    "version": 3
   },
   "file_extension": ".py",
   "mimetype": "text/x-python",
   "name": "python",
   "nbconvert_exporter": "python",
   "pygments_lexer": "ipython3",
   "version": "3.9.13"
  }
 },
 "nbformat": 4,
 "nbformat_minor": 5
}
